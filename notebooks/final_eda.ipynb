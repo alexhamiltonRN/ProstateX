{
 "cells": [
  {
   "cell_type": "code",
   "execution_count": 1,
   "metadata": {},
   "outputs": [],
   "source": [
    "import SimpleITK as sitk\n",
    "import matplotlib.pyplot as plt\n",
    "from pathlib import Path\n",
    "%matplotlib inline"
   ]
  },
  {
   "cell_type": "code",
   "execution_count": 2,
   "metadata": {},
   "outputs": [],
   "source": [
    "def get_information_for_image(image_path):\n",
    "    \n",
    "    \"\"\"Accepts a path object and returns a tuple containing voxel spacing (tuple) and \n",
    "    image size (tuple) for the nifti file at the given path\"\"\"\n",
    "   \n",
    "    sitk_image = sitk.ReadImage(str(image_path))\n",
    "    voxel_spacing = sitk_image.GetSpacing()\n",
    "    image_size = sitk_image.GetSize()\n",
    "    return (voxel_spacing, image_size)\n",
    "    \n",
    "def process_modality(modality):\n",
    "    \n",
    "    \"\"\"Accepts a modality (str) and returns a dict containing voxel spacings (lst of tuples) \n",
    "    and image sizes (lst of tuples) for the desired modality\"\"\"\n",
    "    \n",
    "    voxel_spacings = []\n",
    "    image_sizes = []\n",
    "    paths_to_nifti = Path('./nifti')\n",
    "    patient_folders = [x for x in paths_to_nifti.iterdir() if x.is_dir()]\n",
    "    for patient_folder in patient_folders:\n",
    "        subdirectories = [x for x in patient_folder.iterdir() if x.is_dir()]\n",
    "        for subdirectory in subdirectories:\n",
    "            if modality in str(subdirectory):\n",
    "                modality_file = [x for x in subdirectory.iterdir()]\n",
    "                if len(modality_file) != 0:\n",
    "                    information = get_information_for_image(modality_file[0])\n",
    "                    voxel_spacings.append(information[0])\n",
    "                    image_sizes.append(information[1])\n",
    "    return {'voxel_spacings':voxel_spacings, 'image_sizes':image_sizes}"
   ]
  },
  {
   "cell_type": "code",
   "execution_count": 23,
   "metadata": {},
   "outputs": [],
   "source": [
    "def generate_charts(modality):\n",
    "    \n",
    "    \"\"\"Accepts a modality (str) and returns a bar chart of voxel spacing and image sizes for\n",
    "    all patients in the dataset\"\"\"\n",
    "    \n",
    "    processed_modality = process_modality(modality)\n",
    "    voxel_spacings = processed_modality['voxel_spacings']\n",
    "    image_sizes = processed_modality['image_sizes']\n",
    "    \n",
    "    def count_elements(sequence):\n",
    "        tally = {}\n",
    "        for element in sequence:\n",
    "            tally[str(element)] = tally.get(str(element), 0) + 1\n",
    "        return tally\n",
    "    \n",
    "    voxel_count = count_elements(voxel_spacings)\n",
    "    size_count = count_elements(image_sizes)\n",
    "    \n",
    "    v_keys = list(voxel_count.keys())\n",
    "    v_values = list(voxel_count.values())\n",
    "    s_keys = list(size_count.keys())\n",
    "    s_values = list(size_count.values())\n",
    "    \n",
    "    plt.figure(figsize=(20,11))\n",
    "    plt.subplot(1,2,1)\n",
    "    plt.title(modality + ' voxel spacings')\n",
    "    plt.xlabel('pixel spacing (x,y,z) in mm')\n",
    "    plt.ylabel('patient count')\n",
    "    plt.xticks(rotation=90)\n",
    "    plt.bar(v_keys, v_values)\n",
    "    \n",
    "    plt.subplot(1,2,2)\n",
    "    plt.title(modality + ' image sizes')\n",
    "    plt.xlabel('(w,h,d)')\n",
    "    plt.ylabel('patient count')\n",
    "    plt.xticks(rotation=90)\n",
    "    plt.bar(s_keys, s_values)\n",
    "    \n",
    "    plt.tight_layout()\n",
    "    \n",
    "    plots_path = Path('./plots')\n",
    "    save_path = plots_path.joinpath(modality + '.pdf')\n",
    "    plt.savefig(str(save_path))\n",
    "    \n",
    "    plt.cla()\n",
    "    plt.clf()\n",
    "    "
   ]
  },
  {
   "cell_type": "code",
   "execution_count": 24,
   "metadata": {},
   "outputs": [],
   "source": [
    "def main():\n",
    "    generate_charts('adc')\n",
    "    generate_charts('bval')\n",
    "    generate_charts('ktrans')\n",
    "    generate_charts('t2')"
   ]
  },
  {
   "cell_type": "code",
   "execution_count": 25,
   "metadata": {},
   "outputs": [
    {
     "data": {
      "text/plain": [
       "<Figure size 1440x792 with 0 Axes>"
      ]
     },
     "metadata": {},
     "output_type": "display_data"
    },
    {
     "data": {
      "text/plain": [
       "<Figure size 1440x792 with 0 Axes>"
      ]
     },
     "metadata": {},
     "output_type": "display_data"
    },
    {
     "data": {
      "text/plain": [
       "<Figure size 1440x792 with 0 Axes>"
      ]
     },
     "metadata": {},
     "output_type": "display_data"
    },
    {
     "data": {
      "text/plain": [
       "<Figure size 1440x792 with 0 Axes>"
      ]
     },
     "metadata": {},
     "output_type": "display_data"
    }
   ],
   "source": [
    "main()"
   ]
  },
  {
   "cell_type": "code",
   "execution_count": 10,
   "metadata": {},
   "outputs": [
    {
     "data": {
      "image/png": "[encoded data removed]",
      "text/plain": [
       "<Figure size 432x288 with 2 Axes>"
      ]
     },
     "metadata": {
      "needs_background": "light"
     },
     "output_type": "display_data"
    }
   ],
   "source": [
    "generate_charts('bval')"
   ]
  },
  {
   "cell_type": "code",
   "execution_count": null,
   "metadata": {},
   "outputs": [],
   "source": []
  }
 ],
 "metadata": {
  "kernelspec": {
   "display_name": "Python 3",
   "language": "python",
   "name": "python3"
  },
  "language_info": {
   "codemirror_mode": {
    "name": "ipython",
    "version": 3
   },
   "file_extension": ".py",
   "mimetype": "text/x-python",
   "name": "python",
   "nbconvert_exporter": "python",
   "pygments_lexer": "ipython3",
   "version": "3.6.4"
  }
 },
 "nbformat": 4,
 "nbformat_minor": 2
}
