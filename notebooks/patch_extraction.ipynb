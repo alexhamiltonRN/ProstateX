{
 "cells": [
  {
   "cell_type": "code",
   "execution_count": 1,
   "metadata": {},
   "outputs": [],
   "source": [
    "import pandas as pd\n",
    "import numpy as np\n",
    "import matplotlib.pyplot\n",
    "from pathlib import Path"
   ]
  },
  {
   "cell_type": "code",
   "execution_count": 2,
   "metadata": {},
   "outputs": [],
   "source": [
    "images_train = pd.read_csv('../data/test_labels/ProstateX-Images-Train.csv')\n",
    "ktrans_train = pd.read_csv('../data/test_labels/ProstateX-Images-KTrans-Train.csv')\n",
    "findings = pd.read_csv('../data/test_labels/ProstateX-Findings-Train.csv')"
   ]
  },
  {
   "cell_type": "code",
   "execution_count": 3,
   "metadata": {},
   "outputs": [],
   "source": [
    "# The usual check for successful conversions\n",
    "dicom2nifti_success = Path.cwd().parent / 'dicom2nifti_successful.txt'\n",
    "successful_conv = dicom2nifti_success.read_text()\n",
    "successful_conv = successful_conv.split('\\n')\n",
    "successful_conv = list(filter(None, successful_conv)) # For sanity - remove any empty string(s)\n",
    "\n",
    "\n",
    "# Build dataframe of t2 cases\n",
    "\n",
    "# Generate a dictionary containing key = Patient_ID, value = t2_sequence_filename\n",
    "root_dir = Path.cwd().parent\n",
    "nifti = root_dir.joinpath('data/nifti')\n",
    "\n",
    "def generate_data(sequence_type):\n",
    "    \n",
    "    patient_data = {}\n",
    "    patient_folders = [x for x in nifti.iterdir() if x.is_dir()]\n",
    "    for patient in patient_folders:\n",
    "        if patient.stem in successful_conv: \n",
    "            sequences = [x for x in patient.iterdir() if x.is_dir()]\n",
    "            for sequence in sequences:\n",
    "                if sequence.parts[-1] == sequence_type:\n",
    "                    for item in sequence.rglob('*.*'):\n",
    "                        full_name = item.parts[-1]\n",
    "                        split = full_name.split('.')\n",
    "                        name_without_extension = split[0]\n",
    "                        first_underscore = name_without_extension.find('_') + 1\n",
    "                        patient_data[patient.parts[-1]] = name_without_extension[first_underscore:] # remove the number and underscore at the start\n",
    "    return patient_data\n",
    "                "
   ]
  },
  {
   "cell_type": "code",
   "execution_count": 4,
   "metadata": {},
   "outputs": [
    {
     "name": "stdout",
     "output_type": "stream",
     "text": [
      "                         0\n",
      "ProstateX-0005  t2_tse_tra\n",
      "ProstateX-0002  t2_tse_tra\n",
      "ProstateX-0034  t2_tse_tra\n",
      "ProstateX-0033  t2_tse_tra\n",
      "ProstateX-0032  t2_tse_tra\n"
     ]
    }
   ],
   "source": [
    "t2_data = generate_data('t2')\n",
    "t2_data_frame = pd.DataFrame.from_dict(t2_data, orient='index')\n",
    "print(t2_data_frame.head())"
   ]
  },
  {
   "cell_type": "code",
   "execution_count": 5,
   "metadata": {},
   "outputs": [
    {
     "name": "stdout",
     "output_type": "stream",
     "text": [
      "                                                 0\n",
      "ProstateX-0005  ep2d_diff_tra_dyndist_mixcalc_bval\n",
      "ProstateX-0002      ep2d_diff_tra_dyndistcalc_bval\n",
      "ProstateX-0034      ep2d_diff_tra_dyndistcalc_bval\n",
      "ProstateX-0033      ep2d_diff_tra_dyndistcalc_bval\n",
      "ProstateX-0032      ep2d_diff_tra_dyndistcalc_bval\n"
     ]
    }
   ],
   "source": [
    "bval_data = generate_data('bval')\n",
    "bval_data_frame = pd.DataFrame.from_dict(bval_data, orient='index')\n",
    "print(bval_data_frame.head())"
   ]
  },
  {
   "cell_type": "code",
   "execution_count": null,
   "metadata": {},
   "outputs": [],
   "source": []
  }
 ],
 "metadata": {
  "kernelspec": {
   "display_name": "Python 3",
   "language": "python",
   "name": "python3"
  },
  "language_info": {
   "codemirror_mode": {
    "name": "ipython",
    "version": 3
   },
   "file_extension": ".py",
   "mimetype": "text/x-python",
   "name": "python",
   "nbconvert_exporter": "python",
   "pygments_lexer": "ipython3",
   "version": "3.6.6"
  }
 },
 "nbformat": 4,
 "nbformat_minor": 2
}
